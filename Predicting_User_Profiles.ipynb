{
  "nbformat": 4,
  "nbformat_minor": 0,
  "metadata": {
    "colab": {
      "provenance": [],
      "authorship_tag": "ABX9TyNfxpyK5mOkD+zlm89ogfoN"
    },
    "kernelspec": {
      "name": "python3",
      "display_name": "Python 3"
    },
    "language_info": {
      "name": "python"
    }
  },
  "cells": [
    {
      "cell_type": "code",
      "execution_count": 2,
      "metadata": {
        "id": "kCpOb7zsFs2t",
        "colab": {
          "base_uri": "https://localhost:8080/"
        },
        "outputId": "e4567034-4c51-41d4-c890-5778e803f0ca"
      },
      "outputs": [
        {
          "output_type": "stream",
          "name": "stdout",
          "text": [
            "<class 'pandas.core.frame.DataFrame'>\n",
            "RangeIndex: 59946 entries, 0 to 59945\n",
            "Data columns (total 31 columns):\n",
            " #   Column       Non-Null Count  Dtype  \n",
            "---  ------       --------------  -----  \n",
            " 0   age          59946 non-null  int64  \n",
            " 1   body_type    54650 non-null  object \n",
            " 2   diet         35551 non-null  object \n",
            " 3   drinks       56961 non-null  object \n",
            " 4   drugs        45866 non-null  object \n",
            " 5   education    53318 non-null  object \n",
            " 6   essay0       54458 non-null  object \n",
            " 7   essay1       52374 non-null  object \n",
            " 8   essay2       50308 non-null  object \n",
            " 9   essay3       48470 non-null  object \n",
            " 10  essay4       49409 non-null  object \n",
            " 11  essay5       49096 non-null  object \n",
            " 12  essay6       46175 non-null  object \n",
            " 13  essay7       47495 non-null  object \n",
            " 14  essay8       40721 non-null  object \n",
            " 15  essay9       47343 non-null  object \n",
            " 16  ethnicity    54266 non-null  object \n",
            " 17  height       59943 non-null  float64\n",
            " 18  income       59946 non-null  int64  \n",
            " 19  job          51748 non-null  object \n",
            " 20  last_online  59946 non-null  object \n",
            " 21  location     59946 non-null  object \n",
            " 22  offspring    24385 non-null  object \n",
            " 23  orientation  59946 non-null  object \n",
            " 24  pets         40025 non-null  object \n",
            " 25  religion     39720 non-null  object \n",
            " 26  sex          59946 non-null  object \n",
            " 27  sign         48890 non-null  object \n",
            " 28  smokes       54434 non-null  object \n",
            " 29  speaks       59896 non-null  object \n",
            " 30  status       59946 non-null  object \n",
            "dtypes: float64(1), int64(2), object(28)\n",
            "memory usage: 14.2+ MB\n",
            "None\n",
            "   age       body_type               diet    drinks      drugs  \\\n",
            "0   22  a little extra  strictly anything  socially      never   \n",
            "1   35         average       mostly other     often  sometimes   \n",
            "2   38            thin           anything  socially        NaN   \n",
            "\n",
            "                        education  \\\n",
            "0   working on college/university   \n",
            "1           working on space camp   \n",
            "2  graduated from masters program   \n",
            "\n",
            "                                              essay0  \\\n",
            "0  about me:<br />\\n<br />\\ni would love to think...   \n",
            "1  i am a chef: this is what that means.<br />\\n1...   \n",
            "2  i'm not ashamed of much, but writing public te...   \n",
            "\n",
            "                                              essay1  \\\n",
            "0  currently working as an international agent fo...   \n",
            "1  dedicating everyday to being an unbelievable b...   \n",
            "2  i make nerdy software for musicians, artists, ...   \n",
            "\n",
            "                                              essay2  \\\n",
            "0  making people laugh.<br />\\nranting about a go...   \n",
            "1  being silly. having ridiculous amonts of fun w...   \n",
            "2  improvising in different contexts. alternating...   \n",
            "\n",
            "                                              essay3  ...  \\\n",
            "0  the way i look. i am a six foot half asian, ha...  ...   \n",
            "1                                                NaN  ...   \n",
            "2  my large jaw and large glasses are the physica...  ...   \n",
            "\n",
            "                          location  \\\n",
            "0  south san francisco, california   \n",
            "1              oakland, california   \n",
            "2        san francisco, california   \n",
            "\n",
            "                                      offspring orientation  \\\n",
            "0  doesn&rsquo;t have kids, but might want them    straight   \n",
            "1  doesn&rsquo;t have kids, but might want them    straight   \n",
            "2                                           NaN    straight   \n",
            "\n",
            "                        pets                                  religion sex  \\\n",
            "0  likes dogs and likes cats     agnosticism and very serious about it   m   \n",
            "1  likes dogs and likes cats  agnosticism but not too serious about it   m   \n",
            "2                   has cats                                       NaN   m   \n",
            "\n",
            "                                 sign     smokes  \\\n",
            "0                              gemini  sometimes   \n",
            "1                              cancer         no   \n",
            "2  pisces but it doesn&rsquo;t matter         no   \n",
            "\n",
            "                                              speaks     status  \n",
            "0                                            english     single  \n",
            "1  english (fluently), spanish (poorly), french (...     single  \n",
            "2                               english, french, c++  available  \n",
            "\n",
            "[3 rows x 31 columns]\n"
          ]
        }
      ],
      "source": [
        "import re\n",
        "import numpy as np\n",
        "import pandas as pd\n",
        "from matplotlib import pyplot as plt\n",
        "from sklearn.preprocessing import LabelEncoder, OneHotEncoder\n",
        "from sklearn.feature_extraction.text import CountVectorizer\n",
        "from sklearn.model_selection import train_test_split\n",
        "from sklearn.linear_model import LinearRegression\n",
        "from sklearn.preprocessing import StandardScaler\n",
        "from sklearn.naive_bayes import MultinomialNB\n",
        "from sklearn.metrics import accuracy_score\n",
        "from sklearn.cluster import KMeans\n",
        "\n",
        "# first overview of the dataset:\n",
        "df = pd.read_csv('/content/profiles.csv')\n",
        "print(df.info())\n",
        "print(df.head(3))"
      ]
    },
    {
      "cell_type": "code",
      "source": [
        "# clean data: split 'pets' into 'cats' and 'dogs', and assign oridnal values based on\n",
        "# whether they like and have cats|dogs (=2), like but don't have cats|dogs (=1), or dislike cats|dogs (=0)\n",
        "\n",
        "df.dropna(subset=['pets'], inplace=True)\n",
        "df['cats'] = df['pets'].apply(lambda x: 2 if 'has cats' in x\n",
        "                              else (1 if 'likes cats' in x\n",
        "                                    else (0 if 'dislikes cats' in x\n",
        "                                          else np.nan)))\n",
        "df['dogs'] = df['pets'].apply(lambda x: 2 if 'has dogs' in x\n",
        "                              else (1 if 'likes dogs' in x\n",
        "                                    else (0 if 'dislikes dogs' in x\n",
        "                                          else np.nan)))"
      ],
      "metadata": {
        "id": "cYL8p54MYn2E"
      },
      "execution_count": 3,
      "outputs": []
    },
    {
      "cell_type": "code",
      "source": [
        "# clean data: split 'offspring' into 'has_offspring' (present) and 'want_offspring' (future), and assign oridnal values based on\n",
        "# whether they have more than one kid (=2), one kid (=1), or no kids (=0)\n",
        "# and whether they want kids (=2), might want kinds (=1), or don't want kids (=0)\n",
        "\n",
        "df.dropna(subset=['offspring'], inplace=True)\n",
        "df['has_offspring'] = df['offspring'].apply(lambda x: 2 if 'has kids' in x\n",
        "                              else (1 if 'has a kid' in x\n",
        "                                    else (0 if 'doesn&rsquo;t have' in x\n",
        "                                          else np.nan)))\n",
        "df['want_offspring'] = df['offspring'].apply(lambda x: 2 if 'wants' in x\n",
        "                              else (1 if 'might want' in x\n",
        "                                    else (0 if 'doesn&rsquo;t want' in x\n",
        "                                          else np.nan)))"
      ],
      "metadata": {
        "id": "fAOggm7YZayt"
      },
      "execution_count": 4,
      "outputs": []
    },
    {
      "cell_type": "code",
      "source": [
        "# clean data: for 'ethnicity', assign users with more than one group of ethnic group selected as 'multi-ethnic'\n",
        "# check how many users are assigned to 'multi-ethnic'\n",
        "\n",
        "df.dropna(subset=['ethnicity'], inplace=True)\n",
        "df['ethn'] = ['multi-ethnic' if ',' in x else x for x in df['ethnicity']]\n",
        "\n",
        "len(df[df['ethn'] =='multi-ethnic'])/df['ethn'].count()"
      ],
      "metadata": {
        "id": "vJAqulSQaV0S",
        "colab": {
          "base_uri": "https://localhost:8080/"
        },
        "outputId": "7739ad47-d56d-40f0-8615-49ee7ab78519"
      },
      "execution_count": 5,
      "outputs": [
        {
          "output_type": "execute_result",
          "data": {
            "text/plain": [
              "0.1344271901552886"
            ]
          },
          "metadata": {},
          "execution_count": 5
        }
      ]
    },
    {
      "cell_type": "code",
      "source": [
        "# clean data: for 'speaks', prioritize language mentioned (over 3000 lang mentioned!) based on top 10 lang spoken fluently,\n",
        "# and assign boolean values based on whether they speak (=1) or don't speak (=0) the language at all\n",
        "\n",
        "df.dropna(subset=['speaks'], inplace=True) # drop na\n",
        "df['speaks_lang_only'] = df['speaks'].replace(' \\((fluently|okay|poorly)\\)', '', regex=True)\n",
        "print('number of lanugages mentioned: ', df['speaks_lang_only'].nunique())\n",
        "\n",
        "df = df.join(df['speaks'].str.split(',', expand=True).add_prefix('speaks_split')) # split into columns\n",
        "speaks_stack = df[['speaks_split0', 'speaks_split1', 'speaks_split2', 'speaks_split3', 'speaks_split4']].stack() # stack them into a series\n",
        "\n",
        "speaks_fluently = [x if '(fluently)' in x else None for x in speaks_stack] # filter for 'fluently' only\n",
        "speaks_fluently = pd.Series(speaks_fluently) # turn list into series\n",
        "print(speaks_fluently.value_counts()[:10]) # create new features of top 10 languages that are spoken fluently\n",
        "\n",
        "top_10_lang = ['english', 'spanish', 'chinese', 'french', 'c++', 'russian', 'german', 'hindi', 'italian']\n",
        "\n",
        "for lang in top_10_lang:\n",
        "    df[lang] = df['speaks'].apply(lambda x: 1 if lang in x else 0)"
      ],
      "metadata": {
        "id": "T4Gr0C0pc1Wn",
        "colab": {
          "base_uri": "https://localhost:8080/"
        },
        "outputId": "9890b0c6-136b-402c-85f3-d613f5332cc8"
      },
      "execution_count": 6,
      "outputs": [
        {
          "output_type": "stream",
          "name": "stdout",
          "text": [
            "number of lanugages mentioned:  1633\n",
            "english (fluently)     9399\n",
            " spanish (fluently)     902\n",
            " chinese (fluently)     286\n",
            " french (fluently)      267\n",
            " c++ (fluently)         208\n",
            " german (fluently)      150\n",
            " russian (fluently)     134\n",
            " other (fluently)       121\n",
            " english (fluently)      80\n",
            " italian (fluently)      79\n",
            "Name: count, dtype: int64\n"
          ]
        }
      ]
    },
    {
      "cell_type": "code",
      "source": [
        "# clean data: for 'education' split school (eg, 'high school') from users' status in education (ie, 'working on', 'graduated', 'dropped'),\n",
        "# and assign boolean values based on whether they're currently in education ('working on' =1) or not in school('graduated' and 'dropped' =0)\n",
        "# assign ordinal values based on years of education in 'yrs_edu'\n",
        "\n",
        "df.dropna(subset=['education'], inplace=True)\n",
        "edu_split = df.education.str.split(' ')\n",
        "df['edu'] = edu_split.str[-2:].str.join(' ')\n",
        "\n",
        "df['edu'] = ['college/university' if 'college/university' in x else x for x in df['edu']]\n",
        "\n",
        "edu_conditions = [\n",
        "    df['education'].str.contains('working on'),\n",
        "    df['education'].str.contains('graduated'),\n",
        "    df['education'].str.contains('dropped')\n",
        "]\n",
        "edu_values = [1, 0, 0]\n",
        "\n",
        "df['in_edu'] = np.select(edu_conditions, edu_values)\n",
        "\n",
        "yrs_edu_map = {\n",
        "    'high school': 1,\n",
        "    'two-year college': 2,\n",
        "    'college/university': 3,\n",
        "    'masters program ': 4,\n",
        "    'ph.d program': 5,\n",
        "    'law school': 5,\n",
        "    'med school': 5\n",
        "}\n",
        "\n",
        "df['yrs_edu'] = df['edu'].map(yrs_edu_map)"
      ],
      "metadata": {
        "id": "iVgj_o1nbiv9"
      },
      "execution_count": 7,
      "outputs": []
    },
    {
      "cell_type": "code",
      "source": [
        "# clean data: for 'religion', 'sign', and 'diet', split the groups (eg, 'atheism', 'scorpio', 'vegan'),\n",
        "# and how seriously they take the religion|sign|diet, and assign ordinal values.\n",
        "\n",
        "# clean data: 'religion'\n",
        "religion_split = df.religion.str.split(' ')\n",
        "df['relig'] = religion_split.str.get(0)\n",
        "\n",
        "relig_conditions = [\n",
        "    df['religion'].str.contains('laughing', na=False),\n",
        "    df['religion'].str.contains('not too', na=False),\n",
        "    df['religion'].str.contains('somewhat', na=False),\n",
        "    df['religion'].str.contains('very', na=False)\n",
        "]\n",
        "relig_values = [0, 1, 2, 3]\n",
        "\n",
        "df['relig_serious'] = np.select(relig_conditions, relig_values, default='')\n",
        "\n",
        "# clean data: 'sign'\n",
        "df.dropna(subset=['sign'], inplace=True)\n",
        "\n",
        "sign_split = df.sign.str.split(\" \")\n",
        "df['sign_zodiac'] = sign_split.str.get(0)\n",
        "\n",
        "sign_conditions = [\n",
        "    df['sign'].str.contains('but'),\n",
        "    df['sign'].str.contains('fun'),\n",
        "    df['sign'].str.contains('a lot')\n",
        "]\n",
        "sign_values = [0, 1, 2]\n",
        "\n",
        "df['sign_serious'] = np.select(sign_conditions, sign_values, default='')\n",
        "\n",
        "# clean data: 'diet'\n",
        "df.dropna(subset=['diet'], inplace=True)\n",
        "diet_split = df.diet.str.split(' ')\n",
        "df['diet_food'] = diet_split.str[-1]\n",
        "\n",
        "diet_conditions = [\n",
        "    df['diet'].str.contains('mostly'),\n",
        "    df['diet'].str.contains('strictly')\n",
        "]\n",
        "diet_values = [0, 1]\n",
        "\n",
        "df['diet_serious'] = np.select(diet_conditions, diet_values, default='')"
      ],
      "metadata": {
        "id": "wZmWdLTRglhd"
      },
      "execution_count": 8,
      "outputs": []
    },
    {
      "cell_type": "code",
      "source": [
        "# assign ordinal values to 'drinks', 'drugs', and 'smokes'\n",
        "\n",
        "drink_map = {\n",
        "    'not at all': 0,\n",
        "    'rarely': 1,\n",
        "    'socially': 2,\n",
        "    'often': 3,\n",
        "    'very often': 4,\n",
        "    'desperately': 5\n",
        "    }\n",
        "drug_map = {\n",
        "    'never': 0,\n",
        "    'sometimes': 1,\n",
        "    'often': 2\n",
        "    }\n",
        "smoke_map = {\n",
        "    'no': 0,\n",
        "    'sometimes': 1,\n",
        "    'when drinking': 1,\n",
        "    'trying to quit': 1,\n",
        "    'yes': 2\n",
        "    }\n",
        "\n",
        "df['drinks'] = df['drinks'].map(drink_map)\n",
        "df['drugs'] = df['drugs'].map(drug_map)\n",
        "df['smokes'] = df['smokes'].map(smoke_map)"
      ],
      "metadata": {
        "id": "YChACAoaoZq9"
      },
      "execution_count": 9,
      "outputs": []
    },
    {
      "cell_type": "code",
      "source": [
        "# clean data: for 'job' use OneHotEncoder for efficiency\n",
        "\n",
        "ohe = OneHotEncoder(handle_unknown='ignore', sparse_output=False).set_output(transform='pandas')\n",
        "ohejob = ohe.fit_transform(df[['job']])\n",
        "df = pd.concat([df, ohejob], axis=1).drop(columns = ['job'])"
      ],
      "metadata": {
        "id": "7kOd2Q3VSxqd"
      },
      "execution_count": 10,
      "outputs": []
    },
    {
      "cell_type": "code",
      "source": [
        "# clean data: sex f = 0, m = 1\n",
        "\n",
        "#df['sex'] = df['sex'].apply(lambda x: 0 if x == \"f\" else 1)\n",
        "label_encoder = LabelEncoder()\n",
        "label_encoder.fit(df['sex'])\n",
        "df['sex'] = label_encoder.transform(df['sex'])"
      ],
      "metadata": {
        "id": "m-iAdbc-ALqP"
      },
      "execution_count": 11,
      "outputs": []
    },
    {
      "cell_type": "code",
      "source": [
        "# clean data: clean essays by removing glaring regex from columns essay0 ~ essay9\n",
        "# combine all essay columns into one 'essay' column\n",
        "\n",
        "to_replace = ['\\n', '<br />', \"\\'\", '&amp;', '<i>', '</i>']\n",
        "df['essay'] = ''\n",
        "\n",
        "for i in range(10):\n",
        "  col = f'essay{i}' # f-string or 'formatted string' which allows me to embed expression inside curly braces\n",
        "  for t in to_replace:\n",
        "    df[col] = df[col].str.replace(t, ' ')\n",
        "  df['essay'] = df['essay'] + df[col]\n",
        "\n",
        "df.dropna(subset=['essay'], inplace=True)"
      ],
      "metadata": {
        "id": "H1iCEWLM2puj"
      },
      "execution_count": 12,
      "outputs": []
    },
    {
      "cell_type": "code",
      "source": [
        "# predict gender: vectorize words, train the Naive Bayes classifier, and predict gender\n",
        "\n",
        "counter = CountVectorizer(stop_words='english', binary=True, min_df=0.03)\n",
        "X = counter.fit_transform(df['essay'])\n",
        "y = df['sex']\n",
        "X_train, X_test, y_train, y_test = train_test_split(X, y, test_size=0.3, random_state=42)\n",
        "classifier = MultinomialNB()\n",
        "classifier.fit(X_train, y_train)\n",
        "\n",
        "y_pred = classifier.predict(X_test)\n",
        "accuracy = accuracy_score(y_test, y_pred)\n",
        "\n",
        "print('Accuracy:', round(accuracy, 3))"
      ],
      "metadata": {
        "id": "iR0U7bCkEaUy",
        "colab": {
          "base_uri": "https://localhost:8080/"
        },
        "outputId": "7aa0188b-7dd7-4767-9294-526eeb89ca27"
      },
      "execution_count": 13,
      "outputs": [
        {
          "output_type": "stream",
          "name": "stdout",
          "text": [
            "Accuracy: 0.735\n"
          ]
        }
      ]
    },
    {
      "cell_type": "code",
      "source": [
        "# which words did the classifier pick up for female vs male\n",
        "\n",
        "word = counter.get_feature_names_out()\n",
        "log_prob = classifier.feature_log_prob_\n",
        "\n",
        "prob = np.exp(log_prob)\n",
        "prob = np.round(prob, 5)\n",
        "word_prob = list(zip(prob[0], word))\n",
        "word_prob = sorted(word_prob, reverse=True)\n",
        "\n",
        "print('word probability for female:', word_prob[:20])\n",
        "print('word probability for male:', word_prob[-20:])"
      ],
      "metadata": {
        "colab": {
          "base_uri": "https://localhost:8080/"
        },
        "id": "QztHv1SpB4jP",
        "outputId": "1b1d733b-cd43-425d-86c3-7ef8ad7cae7a"
      },
      "execution_count": 14,
      "outputs": [
        {
          "output_type": "stream",
          "name": "stdout",
          "text": [
            "word probability for female: [(0.00701, 'love'), (0.00693, 'like'), (0.00667, 'music'), (0.00637, 'friends'), (0.00618, 'good'), (0.00614, 'food'), (0.00591, 'people'), (0.00589, 'life'), (0.00583, 'time'), (0.00557, 'movies'), (0.00538, 'things'), (0.00538, 'just'), (0.00498, 'new'), (0.00496, 'don'), (0.00485, 'books'), (0.00478, 'really'), (0.00469, 'know'), (0.00446, 'work'), (0.00446, 'want'), (0.0044, 'family')]\n",
            "word probability for male: [(0.00021, 'gotta'), (0.00021, 'cars'), (0.00021, 'bicycle'), (0.0002, 'summary'), (0.0002, 'north'), (0.00019, 'report'), (0.00019, 'fix'), (0.00019, 'father'), (0.00018, 'seven'), (0.00018, 'math'), (0.00018, 'inception'), (0.00018, 'gotten'), (0.00018, 'basketball'), (0.00016, 'snowboarding'), (0.00015, 'simpsons'), (0.00015, 'fixing'), (0.00015, 'dj'), (0.00015, 'bbq'), (0.0001, 'archer'), (6e-05, 'computers')]\n"
          ]
        }
      ]
    },
    {
      "cell_type": "code",
      "source": [
        "# test out the classifier using new input\n",
        "\n",
        "new = ['Moderately nerdy guy (age 30) who writes stories, translates songs, and overshares cat pictures. Currently living in New York City but leaning against settling down here permanently, and likes the idea of living somewhere family-friendly (that a suburb). By nerdy, I mean that I tend to get into phases where I get weirdly excited about things. To take a few random recent examples: Which countries have the best and most cost-effective transit systems, and urbanism and city planning more generally. Computability theory, or alternate computation models, like what its implications would look like for a world that had regular time travel. Acrobatics. The history of clothes making. Making homemade liquor. Building this took a surprisingly long time Cats. Elaborate improvised constructs. Also, glacier climbing What a world would look like if time travel was possible but constrained by computability limits, except that cats could effectively get around them by having weak preferences, and the whole thing ran on a hybrid Miyazaki/Moomins/FF7 aesthetic. And so on. By family-oriented, I mean, well I like happy families. And I like kids, and really want kids, and like the kind of family/tribal structures where people of different ages actually interact. I am slightly trad in some ways, by which I mean something like enjoying some traditions and traditional attitudes but not actually being particularly religious. So I like Friday night family dinners (with the candles and the nice tablecloth), and I like casual gender norms (In that, say, I prefer the sound of my wife my spouse), but do regular prayers or really keep kosher (except I eat pork). For stories I wrote this one about first contact, or this one about bike lanes. For song translations, I mostly do Israeli folk songs (like this one, or this one). Life/Relationship Goals Most of all, I want a family. I want a good happy partnership relationship, and I want a bunch of kids. probably practical constraints on how many kids I could practically have or handle, but in principle, a fan of the idea of having lots of kids. I think I would be a good dad. I currently live in New York and work doing vague finance and programming stuff. I like it here for now, but I want to settle down permanently, or raise kids here. Where I want to end up is a hard question  for having kids, want to be somewhere clean and pedestrian-friendly, where the kids can walk safely by themselves to get around or play outside or whatnot. Sometimes I think about going back to Israel, but there are other places that meet those conditions. (Financially, I do have more than enough to support a family, including if I was married to someone who wanted to be a homemaker or work nonprofit or whatever, or to take a few years off for that matter). My ideal relationship involves sharing random ideas that get us excited off each other, cooking or going on hikes together, randomly messaging each other cat pictures, developing a pool of shared references and frames that becomes a little like a shared language, spiderman kisses (that is, where one or both of the people doing the kissing are hanging upside-down), and eventually raising a bunch of kids together. Also, occasional backpacking trips where we wind up cooking improvised pancakes in random abandoned cabins. You? If the above part sounds appealing, you should try to contact me! You can email me find me on facebook, whatever. See? Very welcoming I like the idea of social proof   if we know people in common, you can talk to me through them, or talk to them about whether they think would work. Properties common in people I have good relationships with: Getting delighted by things. Probably the biggest single factor, although it can be hard to describe. If you’re the sort of person who would build the food pyramid I mentioned above, or give names to random wildlife, or stop to look in random windows because you’re curious what the people inside live like, or like to think about the logistics of feeding a continent of sentient hamsters, we are likely to get along and you should give me a call. Compatible life goals. This one is pretty obvious, I guess. Ability to resolve conflicts. I’m not always great at immediately noticing when something is bothering someone, but I do listen when people talk to me about things. It helps a lot in a relationship, if  someone who can bring up things that bother you, and we can talk it through and solve it. Having initiative, and dreams, and like to do things.They  have to be shared interests   I just like people who have interests they get excited about.Finally, if you do want to contact me but aren’t sure how, ideas for conversation starters. What would the world look like if it had time-travelling cats? If you had the choice to be turned into a group of hamsters, how many hamsters would it take for you to prefer being the group of hamsters to being human? What’s something you deeply care about, or something that would make your life or your neighborhood or the world better? If you could be in any sort of place imaginable right now, where would you be? Any random thing you’ve been thinking about lately Just ‘Hi’ is also good!']\n",
        "test = counter.transform(new)\n",
        "print(classifier.predict(test))\n",
        "print(classifier.predict_proba(test))"
      ],
      "metadata": {
        "colab": {
          "base_uri": "https://localhost:8080/"
        },
        "id": "afBRhRijY0xJ",
        "outputId": "a5fd129d-6b81-4611-d8c2-a95b7d176a19"
      },
      "execution_count": 15,
      "outputs": [
        {
          "output_type": "stream",
          "name": "stdout",
          "text": [
            "[1]\n",
            "[[0.41563752 0.58436248]]\n"
          ]
        }
      ]
    }
  ]
}